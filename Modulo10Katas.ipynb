{
 "cells": [
  {
   "cell_type": "markdown",
   "metadata": {},
   "source": [
    "### GENERAR LA EXCEPCIÓN FileNotFoundError"
   ]
  },
  {
   "cell_type": "markdown",
   "metadata": {},
   "source": []
  },
  {
   "cell_type": "code",
   "execution_count": null,
   "metadata": {},
   "outputs": [],
   "source": [
    "# Generar el error de archivo no encontrado\n",
    "\n",
    "def main():\n",
    "    open(\"/images/config.py\")\n",
    "\n",
    "if __name__ == '__main__':\n",
    "    main()"
   ]
  },
  {
   "cell_type": "markdown",
   "metadata": {},
   "source": [
    "### Uso de los bloques Try y Except"
   ]
  },
  {
   "cell_type": "code",
   "execution_count": 1,
   "metadata": {},
   "outputs": [
    {
     "name": "stdout",
     "output_type": "stream",
     "text": [
      "No pudo encontrar el archivo config.txt.\n"
     ]
    }
   ],
   "source": [
    "try:\n",
    "    open('config.txt')\n",
    "except FileNotFoundError:\n",
    "    print('No pudo encontrar el archivo config.txt.')\n",
    "\n",
    "if __name__ == '__main__':\n",
    "    main()"
   ]
  },
  {
   "cell_type": "markdown",
   "metadata": {},
   "source": [
    "### Controlar todas las excepciones sin distincion\n"
   ]
  },
  {
   "cell_type": "code",
   "execution_count": 11,
   "metadata": {},
   "outputs": [
    {
     "name": "stdout",
     "output_type": "stream",
     "text": [
      "No pudo abrir el archivo.\n"
     ]
    }
   ],
   "source": [
    "def main():\n",
    "    try:\n",
    "        conf = open('config.txt')\n",
    "    except Exception:\n",
    "        print('No pudo abrir el archivo.')\n",
    "        \n",
    "if __name__ == '__main__':\n",
    "    main()"
   ]
  },
  {
   "cell_type": "markdown",
   "metadata": {},
   "source": [
    "### Agrupar varias excepciones para el mismo bloque y asociar excepciones con un alias"
   ]
  },
  {
   "cell_type": "code",
   "execution_count": 13,
   "metadata": {},
   "outputs": [
    {
     "name": "stdout",
     "output_type": "stream",
     "text": [
      "No se pudo realizar la acción por: [Errno 2] No such file or directory: 'config.yaml'\n"
     ]
    }
   ],
   "source": [
    "def main():\n",
    "    try:\n",
    "        configuration = open('config.yaml')\n",
    "    except FileNotFoundError:\n",
    "        print('No puede encontrar el archivo.')\n",
    "    except IsADirectoryError:\n",
    "        print('El archivo es un directorio.')\n",
    "    except BlockingIOError:\n",
    "        print('No se tiene permisos de acceso al archivo.')\n",
    "    except Exception as err:\n",
    "        print('No se pudo realizar la acción por:', err)\n",
    "\n",
    "\n",
    "if __name__ == '__main__':\n",
    "    main()"
   ]
  },
  {
   "cell_type": "markdown",
   "metadata": {},
   "source": [
    "### Generación de excepciones"
   ]
  },
  {
   "cell_type": "code",
   "execution_count": 9,
   "metadata": {},
   "outputs": [
    {
     "ename": "TypeError",
     "evalue": "Todos los argumentos requeridos para esta funcion deben ser enteros pero se recibio: 400",
     "output_type": "error",
     "traceback": [
      "\u001b[1;31m---------------------------------------------------------------------------\u001b[0m",
      "\u001b[1;31mTypeError\u001b[0m                                 Traceback (most recent call last)",
      "\u001b[1;32mc:\\Users\\rbrito.CEICAMPECHE\\Google Drive\\Desarrollo\\LAUNCHX\\Modulos\\CursoIntroPython\\Módulo 10 - Manejo de errores\\KataModulo10.ipynb Cell 11'\u001b[0m in \u001b[0;36mwater_left\u001b[1;34m(astronauts, water_left, day_left)\u001b[0m\n\u001b[0;32m      <a href='vscode-notebook-cell:/c%3A/Users/rbrito.CEICAMPECHE/Google%20Drive/Desarrollo/LAUNCHX/Modulos/CursoIntroPython/M%C3%B3dulo%2010%20-%20Manejo%20de%20errores/KataModulo10.ipynb#ch0000010?line=2'>3</a>\u001b[0m \u001b[39mtry\u001b[39;00m:\n\u001b[1;32m----> <a href='vscode-notebook-cell:/c%3A/Users/rbrito.CEICAMPECHE/Google%20Drive/Desarrollo/LAUNCHX/Modulos/CursoIntroPython/M%C3%B3dulo%2010%20-%20Manejo%20de%20errores/KataModulo10.ipynb#ch0000010?line=3'>4</a>\u001b[0m     argument\u001b[39m/\u001b[39;49m\u001b[39m10\u001b[39;49m\n\u001b[0;32m      <a href='vscode-notebook-cell:/c%3A/Users/rbrito.CEICAMPECHE/Google%20Drive/Desarrollo/LAUNCHX/Modulos/CursoIntroPython/M%C3%B3dulo%2010%20-%20Manejo%20de%20errores/KataModulo10.ipynb#ch0000010?line=4'>5</a>\u001b[0m \u001b[39mexcept\u001b[39;00m \u001b[39mTypeError\u001b[39;00m:\n",
      "\u001b[1;31mTypeError\u001b[0m: unsupported operand type(s) for /: 'str' and 'int'",
      "\nDuring handling of the above exception, another exception occurred:\n",
      "\u001b[1;31mTypeError\u001b[0m                                 Traceback (most recent call last)",
      "\u001b[1;32mc:\\Users\\rbrito.CEICAMPECHE\\Google Drive\\Desarrollo\\LAUNCHX\\Modulos\\CursoIntroPython\\Módulo 10 - Manejo de errores\\KataModulo10.ipynb Cell 11'\u001b[0m in \u001b[0;36m<module>\u001b[1;34m\u001b[0m\n\u001b[0;32m     <a href='vscode-notebook-cell:/c%3A/Users/rbrito.CEICAMPECHE/Google%20Drive/Desarrollo/LAUNCHX/Modulos/CursoIntroPython/M%C3%B3dulo%2010%20-%20Manejo%20de%20errores/KataModulo10.ipynb#ch0000010?line=10'>11</a>\u001b[0m         \u001b[39mraise\u001b[39;00m \u001b[39mRuntimeError\u001b[39;00m(\u001b[39mf\u001b[39m\u001b[39m\"\u001b[39m\u001b[39mNo hay suficiente agua para \u001b[39m\u001b[39m{\u001b[39;00mastronauts\u001b[39m}\u001b[39;00m\u001b[39m astronautas despues de \u001b[39m\u001b[39m{\u001b[39;00mday_left\u001b[39m}\u001b[39;00m\u001b[39m dias.\u001b[39m\u001b[39m\"\u001b[39m)\n\u001b[0;32m     <a href='vscode-notebook-cell:/c%3A/Users/rbrito.CEICAMPECHE/Google%20Drive/Desarrollo/LAUNCHX/Modulos/CursoIntroPython/M%C3%B3dulo%2010%20-%20Manejo%20de%20errores/KataModulo10.ipynb#ch0000010?line=11'>12</a>\u001b[0m     \u001b[39mreturn\u001b[39;00m \u001b[39mf\u001b[39m\u001b[39m\"\u001b[39m\u001b[39mTotal de agua en la nave despues de \u001b[39m\u001b[39m{\u001b[39;00mday_left\u001b[39m}\u001b[39;00m\u001b[39m días con \u001b[39m\u001b[39m{\u001b[39;00mastronauts\u001b[39m}\u001b[39;00m\u001b[39m astronautas a bordo es de: \u001b[39m\u001b[39m{\u001b[39;00mtotal_water_left\u001b[39m}\u001b[39;00m\u001b[39m litros\u001b[39m\u001b[39m\"\u001b[39m\n\u001b[1;32m---> <a href='vscode-notebook-cell:/c%3A/Users/rbrito.CEICAMPECHE/Google%20Drive/Desarrollo/LAUNCHX/Modulos/CursoIntroPython/M%C3%B3dulo%2010%20-%20Manejo%20de%20errores/KataModulo10.ipynb#ch0000010?line=13'>14</a>\u001b[0m water_left(\u001b[39m11\u001b[39;49m, \u001b[39m\"\u001b[39;49m\u001b[39m400\u001b[39;49m\u001b[39m\"\u001b[39;49m, \u001b[39m3\u001b[39;49m)\n",
      "\u001b[1;32mc:\\Users\\rbrito.CEICAMPECHE\\Google Drive\\Desarrollo\\LAUNCHX\\Modulos\\CursoIntroPython\\Módulo 10 - Manejo de errores\\KataModulo10.ipynb Cell 11'\u001b[0m in \u001b[0;36mwater_left\u001b[1;34m(astronauts, water_left, day_left)\u001b[0m\n\u001b[0;32m      <a href='vscode-notebook-cell:/c%3A/Users/rbrito.CEICAMPECHE/Google%20Drive/Desarrollo/LAUNCHX/Modulos/CursoIntroPython/M%C3%B3dulo%2010%20-%20Manejo%20de%20errores/KataModulo10.ipynb#ch0000010?line=3'>4</a>\u001b[0m         argument\u001b[39m/\u001b[39m\u001b[39m10\u001b[39m\n\u001b[0;32m      <a href='vscode-notebook-cell:/c%3A/Users/rbrito.CEICAMPECHE/Google%20Drive/Desarrollo/LAUNCHX/Modulos/CursoIntroPython/M%C3%B3dulo%2010%20-%20Manejo%20de%20errores/KataModulo10.ipynb#ch0000010?line=4'>5</a>\u001b[0m     \u001b[39mexcept\u001b[39;00m \u001b[39mTypeError\u001b[39;00m:\n\u001b[1;32m----> <a href='vscode-notebook-cell:/c%3A/Users/rbrito.CEICAMPECHE/Google%20Drive/Desarrollo/LAUNCHX/Modulos/CursoIntroPython/M%C3%B3dulo%2010%20-%20Manejo%20de%20errores/KataModulo10.ipynb#ch0000010?line=5'>6</a>\u001b[0m         \u001b[39mraise\u001b[39;00m \u001b[39mTypeError\u001b[39;00m(\u001b[39mf\u001b[39m\u001b[39m\"\u001b[39m\u001b[39mTodos los argumentos requeridos para esta funcion deben ser enteros pero se recibio: \u001b[39m\u001b[39m{\u001b[39;00margument\u001b[39m}\u001b[39;00m\u001b[39m\"\u001b[39m)\n\u001b[0;32m      <a href='vscode-notebook-cell:/c%3A/Users/rbrito.CEICAMPECHE/Google%20Drive/Desarrollo/LAUNCHX/Modulos/CursoIntroPython/M%C3%B3dulo%2010%20-%20Manejo%20de%20errores/KataModulo10.ipynb#ch0000010?line=6'>7</a>\u001b[0m daily_usage \u001b[39m=\u001b[39m astronauts\u001b[39m*\u001b[39m\u001b[39m11\u001b[39m\n\u001b[0;32m      <a href='vscode-notebook-cell:/c%3A/Users/rbrito.CEICAMPECHE/Google%20Drive/Desarrollo/LAUNCHX/Modulos/CursoIntroPython/M%C3%B3dulo%2010%20-%20Manejo%20de%20errores/KataModulo10.ipynb#ch0000010?line=7'>8</a>\u001b[0m total_usage \u001b[39m=\u001b[39m daily_usage\u001b[39m*\u001b[39mday_left\n",
      "\u001b[1;31mTypeError\u001b[0m: Todos los argumentos requeridos para esta funcion deben ser enteros pero se recibio: 400"
     ]
    }
   ],
   "source": [
    "def water_left(astronauts, water_left, day_left):\n",
    "    for argument in [astronauts, water_left, day_left]:\n",
    "        try:\n",
    "            argument/10\n",
    "        except TypeError:\n",
    "            raise TypeError(f\"Todos los argumentos requeridos para esta funcion deben ser enteros pero se recibio: {argument}\")\n",
    "    daily_usage = astronauts*11\n",
    "    total_usage = daily_usage*day_left\n",
    "    total_water_left = water_left-total_usage\n",
    "    if(total_water_left<0):\n",
    "        raise RuntimeError(f\"No hay suficiente agua para {astronauts} astronautas despues de {day_left} dias.\")\n",
    "    return f\"Total de agua en la nave despues de {day_left} días con {astronauts} astronautas a bordo es de: {total_water_left} litros\"\n",
    "        \n",
    "water_left(11, \"400\", 3)"
   ]
  },
  {
   "cell_type": "markdown",
   "metadata": {},
   "source": []
  }
 ],
 "metadata": {
  "interpreter": {
   "hash": "69eb92836b941e979072a76c7fcfffe5419cca933cedd02cfafbdfca1a93358c"
  },
  "kernelspec": {
   "display_name": "Python 3.9.10 64-bit",
   "language": "python",
   "name": "python3"
  },
  "language_info": {
   "codemirror_mode": {
    "name": "ipython",
    "version": 3
   },
   "file_extension": ".py",
   "mimetype": "text/x-python",
   "name": "python",
   "nbconvert_exporter": "python",
   "pygments_lexer": "ipython3",
   "version": "3.10.2"
  },
  "orig_nbformat": 4
 },
 "nbformat": 4,
 "nbformat_minor": 2
}
